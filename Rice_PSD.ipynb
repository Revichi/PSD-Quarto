{
  "nbformat": 4,
  "nbformat_minor": 0,
  "metadata": {
    "colab": {
      "provenance": [],
      "toc_visible": true
    },
    "kernelspec": {
      "name": "python3",
      "display_name": "Python 3"
    },
    "language_info": {
      "name": "python"
    }
  },
  "cells": [
    {
      "cell_type": "markdown",
      "source": [
        "# Rice (Cammeo and Osmancik)"
      ],
      "metadata": {
        "id": "lDdzQWklL99X"
      }
    },
    {
      "cell_type": "markdown",
      "source": [
        "## Business Understanding"
      ],
      "metadata": {
        "id": "qTokJ3ym1Uv0"
      }
    },
    {
      "cell_type": "markdown",
      "source": [
        "*  Tujuan: Membangun model klasifikasi untuk mengidentifikasi jenis biji beras (Cammeo dan Osmancik) berdasarkan fitur-fitur tertentu.\n",
        "\n",
        "*  Manfaat: Memberikan alat identifikasi biji beras yang dapat membantu dalam pemisahan dan pengenalan jenis beras.\n",
        "\n"
      ],
      "metadata": {
        "id": "39Ekntlr1XY3"
      }
    },
    {
      "cell_type": "markdown",
      "source": [
        "## Data Understanding"
      ],
      "metadata": {
        "id": "drHlAley4RYJ"
      }
    },
    {
      "cell_type": "markdown",
      "source": [
        "Datasetyang diguanakan adalah dataset Rice (Cammeo and Osmancik) dengan atribut seperti Area, Perimeter, Major Axis Length, Minor Axis Length, Eccentricity, Convex Area, Extent, dan Class (jenis beras)."
      ],
      "metadata": {
        "id": "UD1Y2u-yXTgc"
      }
    },
    {
      "cell_type": "markdown",
      "source": [
        "### Penjelasan atribut"
      ],
      "metadata": {
        "id": "atHdOFNKV8Ma"
      }
    },
    {
      "cell_type": "markdown",
      "source": [
        "\n",
        "Berikut ini adalah penjelasan atribut atribut yang digunakan pada dataset:\n",
        "\n",
        "1. Area (Luas): Mengembalikan jumlah piksel dalam batas biji beras. Ini mengukur luas daerah biji beras dalam piksel.\n",
        "\n",
        "2. Perimeter (Keliling): Menghitung keliling dengan mengukur jarak antara piksel di sekitar batas biji beras. Ini memberikan panjang keliling biji beras dalam piksel.\n",
        "\n",
        "3. Major Axis Length (Panjang Sumbu Utama): Garis terpanjang yang dapat digambar pada biji beras, yaitu jarak sumbu utama. Ini mengukur panjang garis terpanjang pada biji beras dalam piksel.\n",
        "\n",
        "4. Minor Axis Length (Panjang Sumbu Kecil): Garis terpendek yang dapat digambar pada biji beras, yaitu jarak sumbu kecil. Ini mengukur panjang garis terpendek pada biji beras dalam piksel.\n",
        "\n",
        "5. Eccentricity (Eksentrisitas): Mengukur seberapa bulat elips yang memiliki momen yang sama dengan biji beras. Ini memberikan informasi tentang seberapa bulat biji beras, di mana nilai mendekati 0 menandakan elips yang lebih bulat.\n",
        "\n",
        "6. Convex Area (Luas Cembung): Mengembalikan jumlah piksel dari cangkang cembung terkecil dari wilayah yang dibentuk oleh biji beras. Ini mengukur luas area cembung dalam piksel.\n",
        "\n",
        "7. Extent (Ketertelusuran): Mengembalikan rasio wilayah yang dibentuk oleh biji beras terhadap piksel kotak pembatas. Ini memberikan informasi tentang seberapa banyak area yang diisi oleh biji beras dalam kotak pembatasnya.\n",
        "\n",
        "8. Class (Kelas): Jenis beras, misalnya, Cammeo dan Osmancik. Ini adalah label kategoris yang menunjukkan jenis atau kelas dari biji beras yang diamati.\n",
        "\n"
      ],
      "metadata": {
        "id": "tE5e6t3hWGOh"
      }
    },
    {
      "cell_type": "markdown",
      "source": [
        "### Library"
      ],
      "metadata": {
        "id": "sdIKOccoB7lI"
      }
    },
    {
      "cell_type": "code",
      "source": [
        "import matplotlib.pyplot as plt\n",
        "import pandas as pd\n",
        "import seaborn as sns\n",
        "import numpy as np\n",
        "from sklearn.feature_selection import SelectKBest, f_classif\n",
        "from sklearn.preprocessing import MinMaxScaler\n",
        "\n"
      ],
      "metadata": {
        "id": "CGpcasJrQ9Ii"
      },
      "execution_count": 6,
      "outputs": []
    },
    {
      "cell_type": "markdown",
      "source": [
        "### Install dataset\n"
      ],
      "metadata": {
        "id": "xgnP9A9cCAHQ"
      }
    },
    {
      "cell_type": "code",
      "source": [
        "from google.colab import drive\n",
        "drive.mount('/content/drive')"
      ],
      "metadata": {
        "colab": {
          "base_uri": "https://localhost:8080/"
        },
        "id": "X-Ro-MIBlGbU",
        "outputId": "6a3684b8-4b42-4abc-fb1e-16e47786e9da"
      },
      "execution_count": 1,
      "outputs": [
        {
          "output_type": "stream",
          "name": "stdout",
          "text": [
            "Mounted at /content/drive\n"
          ]
        }
      ]
    },
    {
      "cell_type": "code",
      "source": [
        "pip install ucimlrepo"
      ],
      "metadata": {
        "colab": {
          "base_uri": "https://localhost:8080/"
        },
        "id": "AYi7INwZ3yPo",
        "outputId": "82d60a1a-628e-41b9-9af3-00dc23fc440a"
      },
      "execution_count": 2,
      "outputs": [
        {
          "output_type": "stream",
          "name": "stdout",
          "text": [
            "Collecting ucimlrepo\n",
            "  Downloading ucimlrepo-0.0.3-py3-none-any.whl (7.0 kB)\n",
            "Installing collected packages: ucimlrepo\n",
            "Successfully installed ucimlrepo-0.0.3\n"
          ]
        }
      ]
    },
    {
      "cell_type": "code",
      "source": [
        "from ucimlrepo import fetch_ucirepo\n",
        "\n",
        "# fetch dataset\n",
        "rice_cammeo_and_osmancik = fetch_ucirepo(id=545)\n",
        "\n",
        "# data (as pandas dataframes)\n",
        "X = rice_cammeo_and_osmancik.data.features\n",
        "y = rice_cammeo_and_osmancik.data.targets\n",
        "\n",
        "# metadata\n",
        "print(rice_cammeo_and_osmancik.metadata)\n",
        "\n",
        "# variable information\n",
        "print(rice_cammeo_and_osmancik.variables)\n"
      ],
      "metadata": {
        "colab": {
          "base_uri": "https://localhost:8080/"
        },
        "id": "Os9vuw9032tp",
        "outputId": "b2d9fc46-5d47-4881-ab7b-a834113fa2c4"
      },
      "execution_count": 3,
      "outputs": [
        {
          "output_type": "stream",
          "name": "stdout",
          "text": [
            "{'uci_id': 545, 'name': 'Rice (Cammeo and Osmancik)', 'repository_url': 'https://archive.ics.uci.edu/dataset/545/rice+cammeo+and+osmancik', 'data_url': 'https://archive.ics.uci.edu/static/public/545/data.csv', 'abstract': \"A total of 3810 rice grain's images were taken for the two species, processed and feature inferences were made. 7 morphological features were obtained for each grain of rice.\", 'area': 'Biology', 'tasks': ['Classification'], 'characteristics': ['Multivariate'], 'num_instances': 3810, 'num_features': 7, 'feature_types': ['Real'], 'demographics': [], 'target_col': ['Class'], 'index_col': None, 'has_missing_values': 'no', 'missing_values_symbol': None, 'year_of_dataset_creation': 2019, 'last_updated': 'Fri Nov 03 2023', 'dataset_doi': '10.24432/C5MW4Z', 'creators': [], 'intro_paper': {'title': 'Classification of Rice Varieties Using Artificial Intelligence Methods', 'authors': 'Ilkay Cinar, M. Koklu', 'published_in': 'International Journal of Intelligent Systems and Applications in Engineering', 'year': 2019, 'url': 'https://www.semanticscholar.org/paper/4e508bb906c8fdc04ead6f20bd8918fcb3605d1c', 'doi': '10.18201/ijisae.2019355381'}, 'additional_info': {'summary': \"Among  the certified rice grown in TURKEY,  the  Osmancik species, which has a large planting area since 1997 and the Cammeo species grown since 2014 have been selected for the study.  When  looking  at  the  general  characteristics  of  Osmancik species, they have a wide, long, glassy and dull appearance.  When looking at the general characteristics of the Cammeo species, they have wide and long, glassy and dull in appearance.  A total of 3810 rice grain's images were taken for the two species, processed and feature inferences were made. 7 morphological features were obtained for each grain of rice. \", 'purpose': None, 'funded_by': None, 'instances_represent': None, 'recommended_data_splits': None, 'sensitive_data': None, 'preprocessing_description': None, 'variable_info': '1.) Area: Returns  the  number  of  pixels  within  the boundaries of the rice grain.\\r\\n2.) Perimeter: Calculates the circumference by calculating  the  distance  between  pixels around the boundaries of the rice grain.\\r\\n3.) Major Axis Length: The longest line that can be drawn on the rice  grain,  i.e.  the  main  axis  distance, gives.\\r\\n4.) Minor Axis Length: The shortest line that can be drawn on the rice  grain,  i.e.  the  small  axis  distance, gives.\\r\\n5.) Eccentricity: It measures how round the ellipse, which has  the  same  moments  as  the  rice  grain, is.\\r\\n6.) Convex Area: Returns  the  pixel  count  of  the  smallest convex shell of the region formed by the rice grain.\\r\\n7.) Extent: Returns the ratio of the regionformed by the rice grain to the bounding box pixels.\\r\\n8.) Class: Cammeo and Osmancik rices', 'citation': None}}\n",
            "                name     role        type demographic  \\\n",
            "0               Area  Feature     Integer        None   \n",
            "1          Perimeter  Feature  Continuous        None   \n",
            "2  Major_Axis_Length  Feature  Continuous        None   \n",
            "3  Minor_Axis_Length  Feature  Continuous        None   \n",
            "4       Eccentricity  Feature  Continuous        None   \n",
            "5        Convex_Area  Feature     Integer        None   \n",
            "6             Extent  Feature  Continuous        None   \n",
            "7              Class   Target      Binary        None   \n",
            "\n",
            "                                         description units missing_values  \n",
            "0  Returns the number of pixels within the bounda...    px             no  \n",
            "1  Calculates the circumference by calculating th...    px             no  \n",
            "2  The longest line that can be drawn on the rice...  None             no  \n",
            "3  The shortest line that can be drawn on the ric...  None             no  \n",
            "4  It measures how round the ellipse, which has t...  None             no  \n",
            "5  Returns the pixel count of the smallest convex...  None             no  \n",
            "6  Returns the ratio of the region formed by the ...  None             no  \n",
            "7                                Cammeo and Osmancik  None             no  \n"
          ]
        }
      ]
    },
    {
      "cell_type": "code",
      "source": [
        "import pandas as pd\n",
        "\n",
        "# Memuat file CSV\n",
        "df = pd.read_csv('https://archive.ics.uci.edu/static/public/545/data.csv')\n",
        "\n",
        "# Menampilkan tabel\n",
        "df"
      ],
      "metadata": {
        "colab": {
          "base_uri": "https://localhost:8080/",
          "height": 424
        },
        "id": "uIdsSs82CC0l",
        "outputId": "1218d3a7-894d-4b1a-804b-1dc6bf262f60"
      },
      "execution_count": 5,
      "outputs": [
        {
          "output_type": "execute_result",
          "data": {
            "text/plain": [
              "       Area   Perimeter  Major_Axis_Length  Minor_Axis_Length  Eccentricity  \\\n",
              "0     15231  525.578979         229.749878          85.093788      0.928882   \n",
              "1     14656  494.311005         206.020065          91.730972      0.895405   \n",
              "2     14634  501.122009         214.106781          87.768288      0.912118   \n",
              "3     13176  458.342987         193.337387          87.448395      0.891861   \n",
              "4     14688  507.166992         211.743378          89.312454      0.906691   \n",
              "...     ...         ...                ...                ...           ...   \n",
              "3805  11441  415.858002         170.486771          85.756592      0.864280   \n",
              "3806  11625  421.390015         167.714798          89.462570      0.845850   \n",
              "3807  12437  442.498993         183.572922          86.801979      0.881144   \n",
              "3808   9882  392.296997         161.193985          78.210480      0.874406   \n",
              "3809  11434  404.709992         161.079269          90.868195      0.825692   \n",
              "\n",
              "      Convex_Area    Extent     Class  \n",
              "0           15617  0.572896    Cammeo  \n",
              "1           15072  0.615436    Cammeo  \n",
              "2           14954  0.693259    Cammeo  \n",
              "3           13368  0.640669    Cammeo  \n",
              "4           15262  0.646024    Cammeo  \n",
              "...           ...       ...       ...  \n",
              "3805        11628  0.681012  Osmancik  \n",
              "3806        11904  0.694279  Osmancik  \n",
              "3807        12645  0.626739  Osmancik  \n",
              "3808        10097  0.659064  Osmancik  \n",
              "3809        11591  0.802949  Osmancik  \n",
              "\n",
              "[3810 rows x 8 columns]"
            ],
            "text/html": [
              "\n",
              "  <div id=\"df-2f9d24eb-a540-41fd-87f9-735fa76a325f\" class=\"colab-df-container\">\n",
              "    <div>\n",
              "<style scoped>\n",
              "    .dataframe tbody tr th:only-of-type {\n",
              "        vertical-align: middle;\n",
              "    }\n",
              "\n",
              "    .dataframe tbody tr th {\n",
              "        vertical-align: top;\n",
              "    }\n",
              "\n",
              "    .dataframe thead th {\n",
              "        text-align: right;\n",
              "    }\n",
              "</style>\n",
              "<table border=\"1\" class=\"dataframe\">\n",
              "  <thead>\n",
              "    <tr style=\"text-align: right;\">\n",
              "      <th></th>\n",
              "      <th>Area</th>\n",
              "      <th>Perimeter</th>\n",
              "      <th>Major_Axis_Length</th>\n",
              "      <th>Minor_Axis_Length</th>\n",
              "      <th>Eccentricity</th>\n",
              "      <th>Convex_Area</th>\n",
              "      <th>Extent</th>\n",
              "      <th>Class</th>\n",
              "    </tr>\n",
              "  </thead>\n",
              "  <tbody>\n",
              "    <tr>\n",
              "      <th>0</th>\n",
              "      <td>15231</td>\n",
              "      <td>525.578979</td>\n",
              "      <td>229.749878</td>\n",
              "      <td>85.093788</td>\n",
              "      <td>0.928882</td>\n",
              "      <td>15617</td>\n",
              "      <td>0.572896</td>\n",
              "      <td>Cammeo</td>\n",
              "    </tr>\n",
              "    <tr>\n",
              "      <th>1</th>\n",
              "      <td>14656</td>\n",
              "      <td>494.311005</td>\n",
              "      <td>206.020065</td>\n",
              "      <td>91.730972</td>\n",
              "      <td>0.895405</td>\n",
              "      <td>15072</td>\n",
              "      <td>0.615436</td>\n",
              "      <td>Cammeo</td>\n",
              "    </tr>\n",
              "    <tr>\n",
              "      <th>2</th>\n",
              "      <td>14634</td>\n",
              "      <td>501.122009</td>\n",
              "      <td>214.106781</td>\n",
              "      <td>87.768288</td>\n",
              "      <td>0.912118</td>\n",
              "      <td>14954</td>\n",
              "      <td>0.693259</td>\n",
              "      <td>Cammeo</td>\n",
              "    </tr>\n",
              "    <tr>\n",
              "      <th>3</th>\n",
              "      <td>13176</td>\n",
              "      <td>458.342987</td>\n",
              "      <td>193.337387</td>\n",
              "      <td>87.448395</td>\n",
              "      <td>0.891861</td>\n",
              "      <td>13368</td>\n",
              "      <td>0.640669</td>\n",
              "      <td>Cammeo</td>\n",
              "    </tr>\n",
              "    <tr>\n",
              "      <th>4</th>\n",
              "      <td>14688</td>\n",
              "      <td>507.166992</td>\n",
              "      <td>211.743378</td>\n",
              "      <td>89.312454</td>\n",
              "      <td>0.906691</td>\n",
              "      <td>15262</td>\n",
              "      <td>0.646024</td>\n",
              "      <td>Cammeo</td>\n",
              "    </tr>\n",
              "    <tr>\n",
              "      <th>...</th>\n",
              "      <td>...</td>\n",
              "      <td>...</td>\n",
              "      <td>...</td>\n",
              "      <td>...</td>\n",
              "      <td>...</td>\n",
              "      <td>...</td>\n",
              "      <td>...</td>\n",
              "      <td>...</td>\n",
              "    </tr>\n",
              "    <tr>\n",
              "      <th>3805</th>\n",
              "      <td>11441</td>\n",
              "      <td>415.858002</td>\n",
              "      <td>170.486771</td>\n",
              "      <td>85.756592</td>\n",
              "      <td>0.864280</td>\n",
              "      <td>11628</td>\n",
              "      <td>0.681012</td>\n",
              "      <td>Osmancik</td>\n",
              "    </tr>\n",
              "    <tr>\n",
              "      <th>3806</th>\n",
              "      <td>11625</td>\n",
              "      <td>421.390015</td>\n",
              "      <td>167.714798</td>\n",
              "      <td>89.462570</td>\n",
              "      <td>0.845850</td>\n",
              "      <td>11904</td>\n",
              "      <td>0.694279</td>\n",
              "      <td>Osmancik</td>\n",
              "    </tr>\n",
              "    <tr>\n",
              "      <th>3807</th>\n",
              "      <td>12437</td>\n",
              "      <td>442.498993</td>\n",
              "      <td>183.572922</td>\n",
              "      <td>86.801979</td>\n",
              "      <td>0.881144</td>\n",
              "      <td>12645</td>\n",
              "      <td>0.626739</td>\n",
              "      <td>Osmancik</td>\n",
              "    </tr>\n",
              "    <tr>\n",
              "      <th>3808</th>\n",
              "      <td>9882</td>\n",
              "      <td>392.296997</td>\n",
              "      <td>161.193985</td>\n",
              "      <td>78.210480</td>\n",
              "      <td>0.874406</td>\n",
              "      <td>10097</td>\n",
              "      <td>0.659064</td>\n",
              "      <td>Osmancik</td>\n",
              "    </tr>\n",
              "    <tr>\n",
              "      <th>3809</th>\n",
              "      <td>11434</td>\n",
              "      <td>404.709992</td>\n",
              "      <td>161.079269</td>\n",
              "      <td>90.868195</td>\n",
              "      <td>0.825692</td>\n",
              "      <td>11591</td>\n",
              "      <td>0.802949</td>\n",
              "      <td>Osmancik</td>\n",
              "    </tr>\n",
              "  </tbody>\n",
              "</table>\n",
              "<p>3810 rows × 8 columns</p>\n",
              "</div>\n",
              "    <div class=\"colab-df-buttons\">\n",
              "\n",
              "  <div class=\"colab-df-container\">\n",
              "    <button class=\"colab-df-convert\" onclick=\"convertToInteractive('df-2f9d24eb-a540-41fd-87f9-735fa76a325f')\"\n",
              "            title=\"Convert this dataframe to an interactive table.\"\n",
              "            style=\"display:none;\">\n",
              "\n",
              "  <svg xmlns=\"http://www.w3.org/2000/svg\" height=\"24px\" viewBox=\"0 -960 960 960\">\n",
              "    <path d=\"M120-120v-720h720v720H120Zm60-500h600v-160H180v160Zm220 220h160v-160H400v160Zm0 220h160v-160H400v160ZM180-400h160v-160H180v160Zm440 0h160v-160H620v160ZM180-180h160v-160H180v160Zm440 0h160v-160H620v160Z\"/>\n",
              "  </svg>\n",
              "    </button>\n",
              "\n",
              "  <style>\n",
              "    .colab-df-container {\n",
              "      display:flex;\n",
              "      gap: 12px;\n",
              "    }\n",
              "\n",
              "    .colab-df-convert {\n",
              "      background-color: #E8F0FE;\n",
              "      border: none;\n",
              "      border-radius: 50%;\n",
              "      cursor: pointer;\n",
              "      display: none;\n",
              "      fill: #1967D2;\n",
              "      height: 32px;\n",
              "      padding: 0 0 0 0;\n",
              "      width: 32px;\n",
              "    }\n",
              "\n",
              "    .colab-df-convert:hover {\n",
              "      background-color: #E2EBFA;\n",
              "      box-shadow: 0px 1px 2px rgba(60, 64, 67, 0.3), 0px 1px 3px 1px rgba(60, 64, 67, 0.15);\n",
              "      fill: #174EA6;\n",
              "    }\n",
              "\n",
              "    .colab-df-buttons div {\n",
              "      margin-bottom: 4px;\n",
              "    }\n",
              "\n",
              "    [theme=dark] .colab-df-convert {\n",
              "      background-color: #3B4455;\n",
              "      fill: #D2E3FC;\n",
              "    }\n",
              "\n",
              "    [theme=dark] .colab-df-convert:hover {\n",
              "      background-color: #434B5C;\n",
              "      box-shadow: 0px 1px 3px 1px rgba(0, 0, 0, 0.15);\n",
              "      filter: drop-shadow(0px 1px 2px rgba(0, 0, 0, 0.3));\n",
              "      fill: #FFFFFF;\n",
              "    }\n",
              "  </style>\n",
              "\n",
              "    <script>\n",
              "      const buttonEl =\n",
              "        document.querySelector('#df-2f9d24eb-a540-41fd-87f9-735fa76a325f button.colab-df-convert');\n",
              "      buttonEl.style.display =\n",
              "        google.colab.kernel.accessAllowed ? 'block' : 'none';\n",
              "\n",
              "      async function convertToInteractive(key) {\n",
              "        const element = document.querySelector('#df-2f9d24eb-a540-41fd-87f9-735fa76a325f');\n",
              "        const dataTable =\n",
              "          await google.colab.kernel.invokeFunction('convertToInteractive',\n",
              "                                                    [key], {});\n",
              "        if (!dataTable) return;\n",
              "\n",
              "        const docLinkHtml = 'Like what you see? Visit the ' +\n",
              "          '<a target=\"_blank\" href=https://colab.research.google.com/notebooks/data_table.ipynb>data table notebook</a>'\n",
              "          + ' to learn more about interactive tables.';\n",
              "        element.innerHTML = '';\n",
              "        dataTable['output_type'] = 'display_data';\n",
              "        await google.colab.output.renderOutput(dataTable, element);\n",
              "        const docLink = document.createElement('div');\n",
              "        docLink.innerHTML = docLinkHtml;\n",
              "        element.appendChild(docLink);\n",
              "      }\n",
              "    </script>\n",
              "  </div>\n",
              "\n",
              "\n",
              "<div id=\"df-ced00dc0-5aa7-4df7-a89a-b764a2344aab\">\n",
              "  <button class=\"colab-df-quickchart\" onclick=\"quickchart('df-ced00dc0-5aa7-4df7-a89a-b764a2344aab')\"\n",
              "            title=\"Suggest charts\"\n",
              "            style=\"display:none;\">\n",
              "\n",
              "<svg xmlns=\"http://www.w3.org/2000/svg\" height=\"24px\"viewBox=\"0 0 24 24\"\n",
              "     width=\"24px\">\n",
              "    <g>\n",
              "        <path d=\"M19 3H5c-1.1 0-2 .9-2 2v14c0 1.1.9 2 2 2h14c1.1 0 2-.9 2-2V5c0-1.1-.9-2-2-2zM9 17H7v-7h2v7zm4 0h-2V7h2v10zm4 0h-2v-4h2v4z\"/>\n",
              "    </g>\n",
              "</svg>\n",
              "  </button>\n",
              "\n",
              "<style>\n",
              "  .colab-df-quickchart {\n",
              "      --bg-color: #E8F0FE;\n",
              "      --fill-color: #1967D2;\n",
              "      --hover-bg-color: #E2EBFA;\n",
              "      --hover-fill-color: #174EA6;\n",
              "      --disabled-fill-color: #AAA;\n",
              "      --disabled-bg-color: #DDD;\n",
              "  }\n",
              "\n",
              "  [theme=dark] .colab-df-quickchart {\n",
              "      --bg-color: #3B4455;\n",
              "      --fill-color: #D2E3FC;\n",
              "      --hover-bg-color: #434B5C;\n",
              "      --hover-fill-color: #FFFFFF;\n",
              "      --disabled-bg-color: #3B4455;\n",
              "      --disabled-fill-color: #666;\n",
              "  }\n",
              "\n",
              "  .colab-df-quickchart {\n",
              "    background-color: var(--bg-color);\n",
              "    border: none;\n",
              "    border-radius: 50%;\n",
              "    cursor: pointer;\n",
              "    display: none;\n",
              "    fill: var(--fill-color);\n",
              "    height: 32px;\n",
              "    padding: 0;\n",
              "    width: 32px;\n",
              "  }\n",
              "\n",
              "  .colab-df-quickchart:hover {\n",
              "    background-color: var(--hover-bg-color);\n",
              "    box-shadow: 0 1px 2px rgba(60, 64, 67, 0.3), 0 1px 3px 1px rgba(60, 64, 67, 0.15);\n",
              "    fill: var(--button-hover-fill-color);\n",
              "  }\n",
              "\n",
              "  .colab-df-quickchart-complete:disabled,\n",
              "  .colab-df-quickchart-complete:disabled:hover {\n",
              "    background-color: var(--disabled-bg-color);\n",
              "    fill: var(--disabled-fill-color);\n",
              "    box-shadow: none;\n",
              "  }\n",
              "\n",
              "  .colab-df-spinner {\n",
              "    border: 2px solid var(--fill-color);\n",
              "    border-color: transparent;\n",
              "    border-bottom-color: var(--fill-color);\n",
              "    animation:\n",
              "      spin 1s steps(1) infinite;\n",
              "  }\n",
              "\n",
              "  @keyframes spin {\n",
              "    0% {\n",
              "      border-color: transparent;\n",
              "      border-bottom-color: var(--fill-color);\n",
              "      border-left-color: var(--fill-color);\n",
              "    }\n",
              "    20% {\n",
              "      border-color: transparent;\n",
              "      border-left-color: var(--fill-color);\n",
              "      border-top-color: var(--fill-color);\n",
              "    }\n",
              "    30% {\n",
              "      border-color: transparent;\n",
              "      border-left-color: var(--fill-color);\n",
              "      border-top-color: var(--fill-color);\n",
              "      border-right-color: var(--fill-color);\n",
              "    }\n",
              "    40% {\n",
              "      border-color: transparent;\n",
              "      border-right-color: var(--fill-color);\n",
              "      border-top-color: var(--fill-color);\n",
              "    }\n",
              "    60% {\n",
              "      border-color: transparent;\n",
              "      border-right-color: var(--fill-color);\n",
              "    }\n",
              "    80% {\n",
              "      border-color: transparent;\n",
              "      border-right-color: var(--fill-color);\n",
              "      border-bottom-color: var(--fill-color);\n",
              "    }\n",
              "    90% {\n",
              "      border-color: transparent;\n",
              "      border-bottom-color: var(--fill-color);\n",
              "    }\n",
              "  }\n",
              "</style>\n",
              "\n",
              "  <script>\n",
              "    async function quickchart(key) {\n",
              "      const quickchartButtonEl =\n",
              "        document.querySelector('#' + key + ' button');\n",
              "      quickchartButtonEl.disabled = true;  // To prevent multiple clicks.\n",
              "      quickchartButtonEl.classList.add('colab-df-spinner');\n",
              "      try {\n",
              "        const charts = await google.colab.kernel.invokeFunction(\n",
              "            'suggestCharts', [key], {});\n",
              "      } catch (error) {\n",
              "        console.error('Error during call to suggestCharts:', error);\n",
              "      }\n",
              "      quickchartButtonEl.classList.remove('colab-df-spinner');\n",
              "      quickchartButtonEl.classList.add('colab-df-quickchart-complete');\n",
              "    }\n",
              "    (() => {\n",
              "      let quickchartButtonEl =\n",
              "        document.querySelector('#df-ced00dc0-5aa7-4df7-a89a-b764a2344aab button');\n",
              "      quickchartButtonEl.style.display =\n",
              "        google.colab.kernel.accessAllowed ? 'block' : 'none';\n",
              "    })();\n",
              "  </script>\n",
              "</div>\n",
              "    </div>\n",
              "  </div>\n"
            ]
          },
          "metadata": {},
          "execution_count": 5
        }
      ]
    },
    {
      "cell_type": "code",
      "source": [
        "X = df.drop(['Class'], axis=1)\n",
        "y = df[\"Class\"]\n"
      ],
      "metadata": {
        "id": "dtgR7_ebxcUj"
      },
      "execution_count": 7,
      "outputs": []
    },
    {
      "cell_type": "markdown",
      "source": [
        "### Missing value"
      ],
      "metadata": {
        "id": "dVqnk8MRjmzi"
      }
    },
    {
      "cell_type": "markdown",
      "source": [
        "Cek apakah ada missing value pada dataset"
      ],
      "metadata": {
        "id": "TDwLvATsEtLd"
      }
    },
    {
      "cell_type": "code",
      "source": [
        "print(X.isnull().sum())  # Menampilkan jumlah missing value untuk setiap kolom"
      ],
      "metadata": {
        "colab": {
          "base_uri": "https://localhost:8080/"
        },
        "id": "Mt1gw2bKEvp-",
        "outputId": "03cddc12-7d17-4972-fede-324e3e7aa12d"
      },
      "execution_count": 8,
      "outputs": [
        {
          "output_type": "stream",
          "name": "stdout",
          "text": [
            "Area                 0\n",
            "Perimeter            0\n",
            "Major_Axis_Length    0\n",
            "Minor_Axis_Length    0\n",
            "Eccentricity         0\n",
            "Convex_Area          0\n",
            "Extent               0\n",
            "dtype: int64\n"
          ]
        }
      ]
    },
    {
      "cell_type": "markdown",
      "source": [
        "### Visualisasi"
      ],
      "metadata": {
        "id": "y7tos-YofXMp"
      }
    },
    {
      "cell_type": "code",
      "source": [
        "sns.countplot(data=df, x='Class')\n",
        "plt.title('Jumlah Data pada Setiap Kelas')\n",
        "plt.xlabel('Kelas (Class)')\n",
        "plt.ylabel('Jumlah Data')\n",
        "plt.show()\n",
        "\n",
        "# Menghitung jumlah data pada setiap kelas secara langsung\n",
        "class_counts = df['Class'].value_counts()\n",
        "\n",
        "# Menampilkan jumlah data pada setiap kelas\n",
        "print('Jumlah Data pada Setiap Kelas:')\n",
        "print(class_counts)\n"
      ],
      "metadata": {
        "colab": {
          "base_uri": "https://localhost:8080/",
          "height": 541
        },
        "id": "hvd1-mBgljj2",
        "outputId": "cc5ef2ea-7a74-4069-c94f-ea268728d80e"
      },
      "execution_count": 12,
      "outputs": [
        {
          "output_type": "display_data",
          "data": {
            "text/plain": [
              "<Figure size 640x480 with 1 Axes>"
            ],
            "image/png": "[encoded data removed]"
          },
          "metadata": {}
        },
        {
          "output_type": "stream",
          "name": "stdout",
          "text": [
            "Jumlah Data pada Setiap Kelas:\n",
            "Osmancik    2180\n",
            "Cammeo      1630\n",
            "Name: Class, dtype: int64\n"
          ]
        }
      ]
    },
    {
      "cell_type": "markdown",
      "source": [
        "Pada distribusi class ini, terlihat bahwa class cameo memiliki data sebanyak 1630 lebih sedikit dari pada class osmancik yaitu sebanyak 2180"
      ],
      "metadata": {
        "id": "3JEmuMoOhAOX"
      }
    },
    {
      "cell_type": "markdown",
      "source": [
        "### Seleksi Fitur\n",
        "\n",
        "Seleksi fitur adalah langkah penting dalam pemrosesan data untuk meningkatkan kinerja model dan mengurangi overfitting. ANOVA (Analysis of Variance) digunakan untuk mengukur perbedaan rata-rata antara dua atau lebih kelompok. Dalam konteks ini, kita akan menggunakan ANOVA untuk memilih fitur-fitur terbaik yang paling berpengaruh terhadap klasifikasi jenis biji beras.\n",
        "\n",
        "Langkah-langkah:\n",
        "\n",
        "1. Menentukan Banyaknya Fitur (N): Pertama, kita perlu menentukan jumlah total fitur dalam dataset.\n",
        "\n",
        "2. Menentukan Jumlah Fitur Terbaik (K): Kita juga perlu menentukan jumlah fitur terbaik yang ingin kita pilih. Dalam contoh ini, K diatur menjadi 6.\n",
        "\n",
        "3. Inisialisasi Selector: Menggunakan SelectKBest dari scikit-learn dengan fungsi skor ANOVA (f_classif) dan jumlah fitur terbaik (K) yang telah ditentukan.\n",
        "\n"
      ],
      "metadata": {
        "id": "B5bzsZlD1JkU"
      }
    },
    {
      "cell_type": "code",
      "source": [
        "\n",
        "\n",
        "# Menentukan banyaknya fitur (N)\n",
        "total_features = len(X.columns)\n",
        "\n",
        "# Menentukan jumlah fitur terbaik (K)\n",
        "k_best_features = 6\n",
        "\n",
        "# Inisialisasi Selector\n",
        "selector = SelectKBest(score_func=f_classif, k=k_best_features)\n"
      ],
      "metadata": {
        "id": "TeEF7UFm9Qgq"
      },
      "execution_count": 13,
      "outputs": []
    },
    {
      "cell_type": "code",
      "source": [
        "# Lakukan seleksi fitur\n",
        "selector.fit(X, y)\n"
      ],
      "metadata": {
        "colab": {
          "base_uri": "https://localhost:8080/",
          "height": 75
        },
        "id": "LEkGtqIV9c-6",
        "outputId": "9d0ca41d-e01c-407e-823a-cb6bb47e9cf7"
      },
      "execution_count": 14,
      "outputs": [
        {
          "output_type": "execute_result",
          "data": {
            "text/plain": [
              "SelectKBest(k=6)"
            ],
            "text/html": [
              "<style>#sk-container-id-1 {color: black;background-color: white;}#sk-container-id-1 pre{padding: 0;}#sk-container-id-1 div.sk-toggleable {background-color: white;}#sk-container-id-1 label.sk-toggleable__label {cursor: pointer;display: block;width: 100%;margin-bottom: 0;padding: 0.3em;box-sizing: border-box;text-align: center;}#sk-container-id-1 label.sk-toggleable__label-arrow:before {content: \"▸\";float: left;margin-right: 0.25em;color: #696969;}#sk-container-id-1 label.sk-toggleable__label-arrow:hover:before {color: black;}#sk-container-id-1 div.sk-estimator:hover label.sk-toggleable__label-arrow:before {color: black;}#sk-container-id-1 div.sk-toggleable__content {max-height: 0;max-width: 0;overflow: hidden;text-align: left;background-color: #f0f8ff;}#sk-container-id-1 div.sk-toggleable__content pre {margin: 0.2em;color: black;border-radius: 0.25em;background-color: #f0f8ff;}#sk-container-id-1 input.sk-toggleable__control:checked~div.sk-toggleable__content {max-height: 200px;max-width: 100%;overflow: auto;}#sk-container-id-1 input.sk-toggleable__control:checked~label.sk-toggleable__label-arrow:before {content: \"▾\";}#sk-container-id-1 div.sk-estimator input.sk-toggleable__control:checked~label.sk-toggleable__label {background-color: #d4ebff;}#sk-container-id-1 div.sk-label input.sk-toggleable__control:checked~label.sk-toggleable__label {background-color: #d4ebff;}#sk-container-id-1 input.sk-hidden--visually {border: 0;clip: rect(1px 1px 1px 1px);clip: rect(1px, 1px, 1px, 1px);height: 1px;margin: -1px;overflow: hidden;padding: 0;position: absolute;width: 1px;}#sk-container-id-1 div.sk-estimator {font-family: monospace;background-color: #f0f8ff;border: 1px dotted black;border-radius: 0.25em;box-sizing: border-box;margin-bottom: 0.5em;}#sk-container-id-1 div.sk-estimator:hover {background-color: #d4ebff;}#sk-container-id-1 div.sk-parallel-item::after {content: \"\";width: 100%;border-bottom: 1px solid gray;flex-grow: 1;}#sk-container-id-1 div.sk-label:hover label.sk-toggleable__label {background-color: #d4ebff;}#sk-container-id-1 div.sk-serial::before {content: \"\";position: absolute;border-left: 1px solid gray;box-sizing: border-box;top: 0;bottom: 0;left: 50%;z-index: 0;}#sk-container-id-1 div.sk-serial {display: flex;flex-direction: column;align-items: center;background-color: white;padding-right: 0.2em;padding-left: 0.2em;position: relative;}#sk-container-id-1 div.sk-item {position: relative;z-index: 1;}#sk-container-id-1 div.sk-parallel {display: flex;align-items: stretch;justify-content: center;background-color: white;position: relative;}#sk-container-id-1 div.sk-item::before, #sk-container-id-1 div.sk-parallel-item::before {content: \"\";position: absolute;border-left: 1px solid gray;box-sizing: border-box;top: 0;bottom: 0;left: 50%;z-index: -1;}#sk-container-id-1 div.sk-parallel-item {display: flex;flex-direction: column;z-index: 1;position: relative;background-color: white;}#sk-container-id-1 div.sk-parallel-item:first-child::after {align-self: flex-end;width: 50%;}#sk-container-id-1 div.sk-parallel-item:last-child::after {align-self: flex-start;width: 50%;}#sk-container-id-1 div.sk-parallel-item:only-child::after {width: 0;}#sk-container-id-1 div.sk-dashed-wrapped {border: 1px dashed gray;margin: 0 0.4em 0.5em 0.4em;box-sizing: border-box;padding-bottom: 0.4em;background-color: white;}#sk-container-id-1 div.sk-label label {font-family: monospace;font-weight: bold;display: inline-block;line-height: 1.2em;}#sk-container-id-1 div.sk-label-container {text-align: center;}#sk-container-id-1 div.sk-container {/* jupyter's `normalize.less` sets `[hidden] { display: none; }` but bootstrap.min.css set `[hidden] { display: none !important; }` so we also need the `!important` here to be able to override the default hidden behavior on the sphinx rendered scikit-learn.org. See: https://github.com/scikit-learn/scikit-learn/issues/21755 */display: inline-block !important;position: relative;}#sk-container-id-1 div.sk-text-repr-fallback {display: none;}</style><div id=\"sk-container-id-1\" class=\"sk-top-container\"><div class=\"sk-text-repr-fallback\"><pre>SelectKBest(k=6)</pre><b>In a Jupyter environment, please rerun this cell to show the HTML representation or trust the notebook. <br />On GitHub, the HTML representation is unable to render, please try loading this page with nbviewer.org.</b></div><div class=\"sk-container\" hidden><div class=\"sk-item\"><div class=\"sk-estimator sk-toggleable\"><input class=\"sk-toggleable__control sk-hidden--visually\" id=\"sk-estimator-id-1\" type=\"checkbox\" checked><label for=\"sk-estimator-id-1\" class=\"sk-toggleable__label sk-toggleable__label-arrow\">SelectKBest</label><div class=\"sk-toggleable__content\"><pre>SelectKBest(k=6)</pre></div></div></div></div></div>"
            ]
          },
          "metadata": {},
          "execution_count": 14
        }
      ]
    },
    {
      "cell_type": "code",
      "source": [
        "# Tampilkan hasil seleksi fitur\n",
        "# Jumlah fitur terbaik yang terpilih disesuaikan dengan nilai K di atas\n",
        "selected_features = selector.get_support(indices=True)\n",
        "feature_names = X.columns\n",
        "\n",
        "# Pilih nama-nama fitur yang dipilih\n",
        "selected_feature_names = [feature_names[i] for i in selected_features]\n",
        "\n",
        "# Hitung skor statistik untuk setiap fitur\n",
        "scores = selector.scores_[selected_features]\n",
        "\n",
        "# Membuat bar chart\n",
        "plt.figure(figsize=(10, 6))\n",
        "plt.bar(selected_feature_names, scores, color='skyblue')\n",
        "plt.xlabel('Fitur')\n",
        "plt.ylabel('Skor Statistik')\n",
        "plt.title('Skor Statistik untuk Fitur-Fitur Terpilih')\n",
        "plt.xticks(rotation=45)\n",
        "plt.tight_layout()\n",
        "\n",
        "# Menampilkan grafik\n",
        "plt.show()\n"
      ],
      "metadata": {
        "colab": {
          "base_uri": "https://localhost:8080/",
          "height": 607
        },
        "id": "stqjoJJD9gAJ",
        "outputId": "f1d67818-ba30-4c5f-b9cf-58af8526574f"
      },
      "execution_count": 15,
      "outputs": [
        {
          "output_type": "display_data",
          "data": {
            "text/plain": [
              "<Figure size 1000x600 with 1 Axes>"
            ],
            "image/png": "[encoded data removed]"
          },
          "metadata": {}
        }
      ]
    },
    {
      "cell_type": "code",
      "source": [
        "# Pilih hanya fitur-fitur terbaik\n",
        "X_selected = X[selected_feature_names]\n"
      ],
      "metadata": {
        "id": "Z085vmkG9iK2"
      },
      "execution_count": 16,
      "outputs": []
    },
    {
      "cell_type": "markdown",
      "source": [
        "Rumus ANOVA:\n",
        "$$\n",
        "F = \\frac{MSB}{MSW}\n",
        "$$\n",
        "MSB atau mean square antar kelompok (mean square between groups). dapat dari rumus ini :\n",
        "\n",
        "$$\n",
        "MSB = \\frac{\\sum_{i=1}^{k} n_i (\\bar{X}_i - \\bar{X}_{\\text{total}})^2}{k - 1}\n",
        "$$\n",
        "dan MSW atau mean square dalam kelompok (mean square within groups)\n",
        "\n",
        "$$\n",
        "MSW = \\frac{\\sum_{i=1}^{k} \\sum_{j=1}^{n_i} (X_{ij} - \\bar{X}_i)^2}{N - k}\n",
        "$$"
      ],
      "metadata": {
        "id": "daOGQt2f9TCh"
      }
    },
    {
      "cell_type": "code",
      "source": [
        "# Menampilkan dataset yang sudah dipilih hanya dengan fitur-fitur terbaik\n",
        "X_selected.head()\n"
      ],
      "metadata": {
        "colab": {
          "base_uri": "https://localhost:8080/",
          "height": 206
        },
        "id": "ygQlqDcA1S2V",
        "outputId": "cc9627cc-b195-4eda-98d2-c3ad968d0f9c"
      },
      "execution_count": 18,
      "outputs": [
        {
          "output_type": "execute_result",
          "data": {
            "text/plain": [
              "    Area   Perimeter  Major_Axis_Length  Minor_Axis_Length  Eccentricity  \\\n",
              "0  15231  525.578979         229.749878          85.093788      0.928882   \n",
              "1  14656  494.311005         206.020065          91.730972      0.895405   \n",
              "2  14634  501.122009         214.106781          87.768288      0.912118   \n",
              "3  13176  458.342987         193.337387          87.448395      0.891861   \n",
              "4  14688  507.166992         211.743378          89.312454      0.906691   \n",
              "\n",
              "   Convex_Area  \n",
              "0        15617  \n",
              "1        15072  \n",
              "2        14954  \n",
              "3        13368  \n",
              "4        15262  "
            ],
            "text/html": [
              "\n",
              "  <div id=\"df-7fe5ca9c-0d55-44a0-9998-94b7b5ae6af3\" class=\"colab-df-container\">\n",
              "    <div>\n",
              "<style scoped>\n",
              "    .dataframe tbody tr th:only-of-type {\n",
              "        vertical-align: middle;\n",
              "    }\n",
              "\n",
              "    .dataframe tbody tr th {\n",
              "        vertical-align: top;\n",
              "    }\n",
              "\n",
              "    .dataframe thead th {\n",
              "        text-align: right;\n",
              "    }\n",
              "</style>\n",
              "<table border=\"1\" class=\"dataframe\">\n",
              "  <thead>\n",
              "    <tr style=\"text-align: right;\">\n",
              "      <th></th>\n",
              "      <th>Area</th>\n",
              "      <th>Perimeter</th>\n",
              "      <th>Major_Axis_Length</th>\n",
              "      <th>Minor_Axis_Length</th>\n",
              "      <th>Eccentricity</th>\n",
              "      <th>Convex_Area</th>\n",
              "    </tr>\n",
              "  </thead>\n",
              "  <tbody>\n",
              "    <tr>\n",
              "      <th>0</th>\n",
              "      <td>15231</td>\n",
              "      <td>525.578979</td>\n",
              "      <td>229.749878</td>\n",
              "      <td>85.093788</td>\n",
              "      <td>0.928882</td>\n",
              "      <td>15617</td>\n",
              "    </tr>\n",
              "    <tr>\n",
              "      <th>1</th>\n",
              "      <td>14656</td>\n",
              "      <td>494.311005</td>\n",
              "      <td>206.020065</td>\n",
              "      <td>91.730972</td>\n",
              "      <td>0.895405</td>\n",
              "      <td>15072</td>\n",
              "    </tr>\n",
              "    <tr>\n",
              "      <th>2</th>\n",
              "      <td>14634</td>\n",
              "      <td>501.122009</td>\n",
              "      <td>214.106781</td>\n",
              "      <td>87.768288</td>\n",
              "      <td>0.912118</td>\n",
              "      <td>14954</td>\n",
              "    </tr>\n",
              "    <tr>\n",
              "      <th>3</th>\n",
              "      <td>13176</td>\n",
              "      <td>458.342987</td>\n",
              "      <td>193.337387</td>\n",
              "      <td>87.448395</td>\n",
              "      <td>0.891861</td>\n",
              "      <td>13368</td>\n",
              "    </tr>\n",
              "    <tr>\n",
              "      <th>4</th>\n",
              "      <td>14688</td>\n",
              "      <td>507.166992</td>\n",
              "      <td>211.743378</td>\n",
              "      <td>89.312454</td>\n",
              "      <td>0.906691</td>\n",
              "      <td>15262</td>\n",
              "    </tr>\n",
              "  </tbody>\n",
              "</table>\n",
              "</div>\n",
              "    <div class=\"colab-df-buttons\">\n",
              "\n",
              "  <div class=\"colab-df-container\">\n",
              "    <button class=\"colab-df-convert\" onclick=\"convertToInteractive('df-7fe5ca9c-0d55-44a0-9998-94b7b5ae6af3')\"\n",
              "            title=\"Convert this dataframe to an interactive table.\"\n",
              "            style=\"display:none;\">\n",
              "\n",
              "  <svg xmlns=\"http://www.w3.org/2000/svg\" height=\"24px\" viewBox=\"0 -960 960 960\">\n",
              "    <path d=\"M120-120v-720h720v720H120Zm60-500h600v-160H180v160Zm220 220h160v-160H400v160Zm0 220h160v-160H400v160ZM180-400h160v-160H180v160Zm440 0h160v-160H620v160ZM180-180h160v-160H180v160Zm440 0h160v-160H620v160Z\"/>\n",
              "  </svg>\n",
              "    </button>\n",
              "\n",
              "  <style>\n",
              "    .colab-df-container {\n",
              "      display:flex;\n",
              "      gap: 12px;\n",
              "    }\n",
              "\n",
              "    .colab-df-convert {\n",
              "      background-color: #E8F0FE;\n",
              "      border: none;\n",
              "      border-radius: 50%;\n",
              "      cursor: pointer;\n",
              "      display: none;\n",
              "      fill: #1967D2;\n",
              "      height: 32px;\n",
              "      padding: 0 0 0 0;\n",
              "      width: 32px;\n",
              "    }\n",
              "\n",
              "    .colab-df-convert:hover {\n",
              "      background-color: #E2EBFA;\n",
              "      box-shadow: 0px 1px 2px rgba(60, 64, 67, 0.3), 0px 1px 3px 1px rgba(60, 64, 67, 0.15);\n",
              "      fill: #174EA6;\n",
              "    }\n",
              "\n",
              "    .colab-df-buttons div {\n",
              "      margin-bottom: 4px;\n",
              "    }\n",
              "\n",
              "    [theme=dark] .colab-df-convert {\n",
              "      background-color: #3B4455;\n",
              "      fill: #D2E3FC;\n",
              "    }\n",
              "\n",
              "    [theme=dark] .colab-df-convert:hover {\n",
              "      background-color: #434B5C;\n",
              "      box-shadow: 0px 1px 3px 1px rgba(0, 0, 0, 0.15);\n",
              "      filter: drop-shadow(0px 1px 2px rgba(0, 0, 0, 0.3));\n",
              "      fill: #FFFFFF;\n",
              "    }\n",
              "  </style>\n",
              "\n",
              "    <script>\n",
              "      const buttonEl =\n",
              "        document.querySelector('#df-7fe5ca9c-0d55-44a0-9998-94b7b5ae6af3 button.colab-df-convert');\n",
              "      buttonEl.style.display =\n",
              "        google.colab.kernel.accessAllowed ? 'block' : 'none';\n",
              "\n",
              "      async function convertToInteractive(key) {\n",
              "        const element = document.querySelector('#df-7fe5ca9c-0d55-44a0-9998-94b7b5ae6af3');\n",
              "        const dataTable =\n",
              "          await google.colab.kernel.invokeFunction('convertToInteractive',\n",
              "                                                    [key], {});\n",
              "        if (!dataTable) return;\n",
              "\n",
              "        const docLinkHtml = 'Like what you see? Visit the ' +\n",
              "          '<a target=\"_blank\" href=https://colab.research.google.com/notebooks/data_table.ipynb>data table notebook</a>'\n",
              "          + ' to learn more about interactive tables.';\n",
              "        element.innerHTML = '';\n",
              "        dataTable['output_type'] = 'display_data';\n",
              "        await google.colab.output.renderOutput(dataTable, element);\n",
              "        const docLink = document.createElement('div');\n",
              "        docLink.innerHTML = docLinkHtml;\n",
              "        element.appendChild(docLink);\n",
              "      }\n",
              "    </script>\n",
              "  </div>\n",
              "\n",
              "\n",
              "<div id=\"df-9a057324-461d-432c-a899-05e6be1257ab\">\n",
              "  <button class=\"colab-df-quickchart\" onclick=\"quickchart('df-9a057324-461d-432c-a899-05e6be1257ab')\"\n",
              "            title=\"Suggest charts\"\n",
              "            style=\"display:none;\">\n",
              "\n",
              "<svg xmlns=\"http://www.w3.org/2000/svg\" height=\"24px\"viewBox=\"0 0 24 24\"\n",
              "     width=\"24px\">\n",
              "    <g>\n",
              "        <path d=\"M19 3H5c-1.1 0-2 .9-2 2v14c0 1.1.9 2 2 2h14c1.1 0 2-.9 2-2V5c0-1.1-.9-2-2-2zM9 17H7v-7h2v7zm4 0h-2V7h2v10zm4 0h-2v-4h2v4z\"/>\n",
              "    </g>\n",
              "</svg>\n",
              "  </button>\n",
              "\n",
              "<style>\n",
              "  .colab-df-quickchart {\n",
              "      --bg-color: #E8F0FE;\n",
              "      --fill-color: #1967D2;\n",
              "      --hover-bg-color: #E2EBFA;\n",
              "      --hover-fill-color: #174EA6;\n",
              "      --disabled-fill-color: #AAA;\n",
              "      --disabled-bg-color: #DDD;\n",
              "  }\n",
              "\n",
              "  [theme=dark] .colab-df-quickchart {\n",
              "      --bg-color: #3B4455;\n",
              "      --fill-color: #D2E3FC;\n",
              "      --hover-bg-color: #434B5C;\n",
              "      --hover-fill-color: #FFFFFF;\n",
              "      --disabled-bg-color: #3B4455;\n",
              "      --disabled-fill-color: #666;\n",
              "  }\n",
              "\n",
              "  .colab-df-quickchart {\n",
              "    background-color: var(--bg-color);\n",
              "    border: none;\n",
              "    border-radius: 50%;\n",
              "    cursor: pointer;\n",
              "    display: none;\n",
              "    fill: var(--fill-color);\n",
              "    height: 32px;\n",
              "    padding: 0;\n",
              "    width: 32px;\n",
              "  }\n",
              "\n",
              "  .colab-df-quickchart:hover {\n",
              "    background-color: var(--hover-bg-color);\n",
              "    box-shadow: 0 1px 2px rgba(60, 64, 67, 0.3), 0 1px 3px 1px rgba(60, 64, 67, 0.15);\n",
              "    fill: var(--button-hover-fill-color);\n",
              "  }\n",
              "\n",
              "  .colab-df-quickchart-complete:disabled,\n",
              "  .colab-df-quickchart-complete:disabled:hover {\n",
              "    background-color: var(--disabled-bg-color);\n",
              "    fill: var(--disabled-fill-color);\n",
              "    box-shadow: none;\n",
              "  }\n",
              "\n",
              "  .colab-df-spinner {\n",
              "    border: 2px solid var(--fill-color);\n",
              "    border-color: transparent;\n",
              "    border-bottom-color: var(--fill-color);\n",
              "    animation:\n",
              "      spin 1s steps(1) infinite;\n",
              "  }\n",
              "\n",
              "  @keyframes spin {\n",
              "    0% {\n",
              "      border-color: transparent;\n",
              "      border-bottom-color: var(--fill-color);\n",
              "      border-left-color: var(--fill-color);\n",
              "    }\n",
              "    20% {\n",
              "      border-color: transparent;\n",
              "      border-left-color: var(--fill-color);\n",
              "      border-top-color: var(--fill-color);\n",
              "    }\n",
              "    30% {\n",
              "      border-color: transparent;\n",
              "      border-left-color: var(--fill-color);\n",
              "      border-top-color: var(--fill-color);\n",
              "      border-right-color: var(--fill-color);\n",
              "    }\n",
              "    40% {\n",
              "      border-color: transparent;\n",
              "      border-right-color: var(--fill-color);\n",
              "      border-top-color: var(--fill-color);\n",
              "    }\n",
              "    60% {\n",
              "      border-color: transparent;\n",
              "      border-right-color: var(--fill-color);\n",
              "    }\n",
              "    80% {\n",
              "      border-color: transparent;\n",
              "      border-right-color: var(--fill-color);\n",
              "      border-bottom-color: var(--fill-color);\n",
              "    }\n",
              "    90% {\n",
              "      border-color: transparent;\n",
              "      border-bottom-color: var(--fill-color);\n",
              "    }\n",
              "  }\n",
              "</style>\n",
              "\n",
              "  <script>\n",
              "    async function quickchart(key) {\n",
              "      const quickchartButtonEl =\n",
              "        document.querySelector('#' + key + ' button');\n",
              "      quickchartButtonEl.disabled = true;  // To prevent multiple clicks.\n",
              "      quickchartButtonEl.classList.add('colab-df-spinner');\n",
              "      try {\n",
              "        const charts = await google.colab.kernel.invokeFunction(\n",
              "            'suggestCharts', [key], {});\n",
              "      } catch (error) {\n",
              "        console.error('Error during call to suggestCharts:', error);\n",
              "      }\n",
              "      quickchartButtonEl.classList.remove('colab-df-spinner');\n",
              "      quickchartButtonEl.classList.add('colab-df-quickchart-complete');\n",
              "    }\n",
              "    (() => {\n",
              "      let quickchartButtonEl =\n",
              "        document.querySelector('#df-9a057324-461d-432c-a899-05e6be1257ab button');\n",
              "      quickchartButtonEl.style.display =\n",
              "        google.colab.kernel.accessAllowed ? 'block' : 'none';\n",
              "    })();\n",
              "  </script>\n",
              "</div>\n",
              "    </div>\n",
              "  </div>\n"
            ]
          },
          "metadata": {},
          "execution_count": 18
        }
      ]
    },
    {
      "cell_type": "markdown",
      "source": [
        "untuk membuang fitur yang skor statistik nya rendah\n"
      ],
      "metadata": {
        "id": "2NbKgqZO1VpP"
      }
    },
    {
      "cell_type": "markdown",
      "source": [
        "## Preprocesing Data\n"
      ],
      "metadata": {
        "id": "CP_io1pN2QwE"
      }
    },
    {
      "cell_type": "markdown",
      "source": [
        "### Split data\n",
        "\n"
      ],
      "metadata": {
        "id": "QxO-Z7GJcQeU"
      }
    },
    {
      "cell_type": "code",
      "source": [
        "from sklearn.model_selection import train_test_split\n",
        "\n",
        "# Pembagian data menjadi data latih dan data uji (80% data latih, 20% data uji)\n",
        "X_train, X_test, y_train, y_test = train_test_split(X_selected, y, test_size=0.2, random_state=42)\n"
      ],
      "metadata": {
        "id": "ogqOYwdFcTDD"
      },
      "execution_count": 19,
      "outputs": []
    },
    {
      "cell_type": "code",
      "source": [],
      "metadata": {
        "id": "HVD0Ygkp_cZ9"
      },
      "execution_count": null,
      "outputs": []
    },
    {
      "cell_type": "code",
      "source": [
        "X_train.shape\n"
      ],
      "metadata": {
        "colab": {
          "base_uri": "https://localhost:8080/"
        },
        "id": "4sqDjrRRNKP-",
        "outputId": "aa192d76-b1fd-48cd-953e-9c27ad4f6570"
      },
      "execution_count": 20,
      "outputs": [
        {
          "output_type": "execute_result",
          "data": {
            "text/plain": [
              "(3048, 6)"
            ]
          },
          "metadata": {},
          "execution_count": 20
        }
      ]
    },
    {
      "cell_type": "code",
      "source": [
        "y_train"
      ],
      "metadata": {
        "colab": {
          "base_uri": "https://localhost:8080/"
        },
        "id": "KAnRtK8cdpHh",
        "outputId": "60a3997c-c5d7-4869-b6c2-b255d0a222c5"
      },
      "execution_count": 21,
      "outputs": [
        {
          "output_type": "execute_result",
          "data": {
            "text/plain": [
              "3644    Osmancik\n",
              "3418    Osmancik\n",
              "1351      Cammeo\n",
              "3591    Osmancik\n",
              "246       Cammeo\n",
              "          ...   \n",
              "1130      Cammeo\n",
              "1294      Cammeo\n",
              "860       Cammeo\n",
              "3507    Osmancik\n",
              "3174    Osmancik\n",
              "Name: Class, Length: 3048, dtype: object"
            ]
          },
          "metadata": {},
          "execution_count": 21
        }
      ]
    },
    {
      "cell_type": "markdown",
      "source": [
        "### Normalisasi Data\n",
        "Normalisasi data dengan Min-Max Scaling adalah suatu teknik transformasi pada data numerik sehingga nilai-nilai tersebut dapat diubah ke dalam rentang yang lebih kecil, biasanya antara 0 dan 1. Rumus Min-Max Scaling untuk suatu nilai \\(x\\) dalam rentang asal \\([a, b]\\) menjadi nilai dalam rentang baru \\([c, d]\\) adalah sebagai berikut:\n",
        "$$\n",
        "\\\n",
        "\\text{Scaled Value} = \\frac{x - a}{b - a} \\times (d - c) + c\n",
        "\\\n",
        "$$\n",
        "Dengan penjelasan sebagai berikut:\n",
        "\n",
        "- \\(x\\) adalah nilai asli dari fitur.\n",
        "- \\(a\\) adalah nilai minimum dalam rentang asal.\n",
        "- \\(b\\) adalah nilai maksimum dalam rentang asal.\n",
        "- \\(c\\) adalah nilai minimum dalam rentang baru.\n",
        "- \\(d\\) adalah nilai maksimum dalam rentang baru.\n",
        "\n",
        "Proses normalisasi ini akan membantu mencegah perbedaan skala antar fitur, yang dapat meningkatkan performa model machine learning, terutama untuk model-model yang sensitif terhadap skala seperti Support Vector Machines (SVM) atau k-Nearest Neighbors (kNN)."
      ],
      "metadata": {
        "id": "KwEe0Vpu2mqU"
      }
    },
    {
      "cell_type": "code",
      "source": [
        "# Normalisasi data\n",
        "scaler = MinMaxScaler()\n",
        "X_train_scaled = scaler.fit_transform(X_train)\n",
        "X_test_scaled = scaler.transform(X_test)\n"
      ],
      "metadata": {
        "id": "d8-bzvI82uOM"
      },
      "execution_count": 22,
      "outputs": []
    },
    {
      "cell_type": "markdown",
      "source": [
        "## Modelling"
      ],
      "metadata": {
        "id": "zVgYcl2y5fae"
      }
    },
    {
      "cell_type": "markdown",
      "source": [
        "### Support Vector Machine (SVM)"
      ],
      "metadata": {
        "id": "I6hGGp1WDZwN"
      }
    },
    {
      "cell_type": "markdown",
      "source": [
        "Support Vector Machine (SVM) adalah model klasifikasi yang mencoba menemukan hyperplane terbaik yang memisahkan dua kelas dalam ruang fitur. Fungsi keputusan SVM dapat dinyatakan sebagai:\n",
        "\n",
        "$$\n",
        "f(x) = \\text{sign}(\\mathbf{w} \\cdot \\mathbf{x} + b)\n",
        "$$\n",
        "\n",
        "- $\\mathbf{w}$ adalah vektor bobot,\n",
        "- $\\mathbf{x}$ adalah vektor fitur input,\n",
        "- $b$ adalah bias, dan\n",
        "- $\\text{sign}$ adalah fungsi tanda.\n"
      ],
      "metadata": {
        "id": "otfSicdAnx6d"
      }
    },
    {
      "cell_type": "code",
      "source": [
        "from sklearn.svm import SVC\n",
        "from sklearn.metrics import accuracy_score, classification_report, confusion_matrix\n",
        "\n",
        "# Inisialisasi model SVM\n",
        "svm_model = SVC(kernel='linear', random_state=42)\n",
        "\n",
        "# Latih model SVM\n",
        "svm_model.fit(X_train_scaled, y_train)\n",
        "\n",
        "# Prediksi data uji\n",
        "svm_predictions = svm_model.predict(X_test_scaled)\n",
        "\n",
        "# Evaluasi model\n",
        "svm_accuracy = accuracy_score(y_test, svm_predictions)\n",
        "svm_classification_report = classification_report(y_test, svm_predictions)\n",
        "svm_confusion_matrix = confusion_matrix(y_test, svm_predictions)\n",
        "\n",
        "# Tampilkan hasil evaluasi\n",
        "print(f'Accuracy of SVM: {svm_accuracy}')\n"
      ],
      "metadata": {
        "id": "LRm5PUOvh5fC",
        "colab": {
          "base_uri": "https://localhost:8080/"
        },
        "outputId": "f3be7849-08e2-4add-c79c-89c93ec3afbb"
      },
      "execution_count": 28,
      "outputs": [
        {
          "output_type": "stream",
          "name": "stdout",
          "text": [
            "Accuracy of SVM: 0.931758530183727\n"
          ]
        }
      ]
    },
    {
      "cell_type": "markdown",
      "source": [
        "### Random Forest"
      ],
      "metadata": {
        "id": "ZelkKnUKiwJB"
      }
    },
    {
      "cell_type": "markdown",
      "source": [
        "Random Forest adalah model ensemble yang terdiri dari sejumlah besar pohon keputusan. Prediksi dari Random Forest diperoleh dengan menggabungkan prediksi dari setiap pohon. Fungsi keputusan Random Forest dapat dinyatakan sebagai:\n",
        "\n",
        "$$\n",
        "f(x) = \\text{mode}(f_1(x), f_2(x), ..., f_N(x))\n",
        "$$\n",
        "\n",
        "- $f_i(x)$ adalah fungsi keputusan pohon ke-$i$, dan\n",
        "- $\\text{mode}$ adalah modus dari prediksi semua pohon.\n"
      ],
      "metadata": {
        "id": "q_jQqrQowOGU"
      }
    },
    {
      "cell_type": "code",
      "source": [
        "from sklearn.ensemble import RandomForestClassifier\n",
        "\n",
        "# Inisialisasi model Random Forest\n",
        "rf_model = RandomForestClassifier(n_estimators=100, random_state=42)\n",
        "\n",
        "# Latih model Random Forest\n",
        "rf_model.fit(X_train_scaled, y_train)\n",
        "\n",
        "# Prediksi data uji\n",
        "rf_predictions = rf_model.predict(X_test_scaled)\n",
        "\n",
        "# Evaluasi model\n",
        "rf_accuracy = accuracy_score(y_test, rf_predictions)\n",
        "rf_classification_report = classification_report(y_test, rf_predictions)\n",
        "rf_confusion_matrix = confusion_matrix(y_test, rf_predictions)\n",
        "\n",
        "# Tampilkan hasil evaluasi\n",
        "print(f'Accuracy of Random Forest: {rf_accuracy}')\n"
      ],
      "metadata": {
        "id": "sr3Oe-MdjACq",
        "colab": {
          "base_uri": "https://localhost:8080/"
        },
        "outputId": "be633c85-178a-4e6e-c1dc-7963fcb9669e"
      },
      "execution_count": 27,
      "outputs": [
        {
          "output_type": "stream",
          "name": "stdout",
          "text": [
            "Accuracy of Random Forest: 0.916010498687664\n"
          ]
        }
      ]
    },
    {
      "cell_type": "markdown",
      "source": [
        "### Neural Network"
      ],
      "metadata": {
        "id": "rzD8bG3Djb-S"
      }
    },
    {
      "cell_type": "markdown",
      "source": [
        "Jaringan Saraf Tiruan (Neural Network) adalah model yang terdiri dari lapisan-lapisan neuron yang saling terhubung. Fungsi keputusan untuk jaringan saraf tiruan dapat dinyatakan sebagai:\n",
        "\n",
        "$$\n",
        "f(x) = \\text{softmax}(\\mathbf{W}_2 \\cdot \\text{ReLU}(\\mathbf{W}_1 \\cdot \\mathbf{x} + \\mathbf{b}_1) + \\mathbf{b}_2)\n",
        "$$\n",
        "\n",
        "- $\\mathbf{W}_1$ dan $\\mathbf{W}_2$ adalah matriks bobot,\n",
        "- $\\mathbf{b}_1$ dan $\\mathbf{b}_2$ adalah vektor bias,\n",
        "- $\\mathbf{x}$ adalah vektor fitur input,\n",
        "- $\\text{ReLU}$ adalah fungsi aktivasi ReLU, dan\n",
        "- $\\text{softmax}$ adalah fungsi aktivasi softmax."
      ],
      "metadata": {
        "id": "GMslJhDuxX1X"
      }
    },
    {
      "cell_type": "code",
      "source": [
        "from sklearn.neural_network import MLPClassifier\n",
        "\n",
        "# Inisialisasi model Neural Network\n",
        "nn_model = MLPClassifier(hidden_layer_sizes=(64, 32), max_iter=1000, random_state=42)\n",
        "\n",
        "# Latih model Neural Network\n",
        "nn_model.fit(X_train_scaled, y_train)\n",
        "\n",
        "# Prediksi data uji\n",
        "nn_predictions = nn_model.predict(X_test_scaled)\n",
        "\n",
        "# Evaluasi model\n",
        "nn_accuracy = accuracy_score(y_test, nn_predictions)\n",
        "nn_classification_report = classification_report(y_test, nn_predictions)\n",
        "nn_confusion_matrix = confusion_matrix(y_test, nn_predictions)\n",
        "\n",
        "# Tampilkan hasil evaluasi\n",
        "print(f'Accuracy of Neural Network: {nn_accuracy}')\n"
      ],
      "metadata": {
        "id": "otJaD6RbjeTp",
        "colab": {
          "base_uri": "https://localhost:8080/"
        },
        "outputId": "82adebdf-99d1-437d-bf32-e729ea7c9198"
      },
      "execution_count": 29,
      "outputs": [
        {
          "output_type": "stream",
          "name": "stdout",
          "text": [
            "Accuracy of Neural Network: 0.9278215223097113\n"
          ]
        }
      ]
    },
    {
      "cell_type": "markdown",
      "source": [
        "## Evaluasi"
      ],
      "metadata": {
        "id": "cp4S9Xop7UQq"
      }
    },
    {
      "cell_type": "markdown",
      "source": [],
      "metadata": {
        "id": "4gjKIBTNEM2G"
      }
    },
    {
      "cell_type": "markdown",
      "source": [
        "Akurasi yang tertinggi yang saya dapat dari hasil yang sudah dibuat adalah SVM"
      ],
      "metadata": {
        "id": "mlfx8hAQhJ1Q"
      }
    },
    {
      "cell_type": "code",
      "source": [
        "print(\"Accuracy of SVM:\",svm_accuracy)\n",
        "print(\"Accuracy of Random Forest:\", rf_accuracy)\n",
        "print(\"Accuracy of Neural Network:\", nn_accuracy)"
      ],
      "metadata": {
        "colab": {
          "base_uri": "https://localhost:8080/"
        },
        "id": "5ZnL8YaD7Ym3",
        "outputId": "c1f365af-d6e5-4fc2-d928-6f3800613c19"
      },
      "execution_count": 31,
      "outputs": [
        {
          "output_type": "stream",
          "name": "stdout",
          "text": [
            "Accuracy of SVM: 0.931758530183727\n",
            "Accuracy of Random Forest: 0.916010498687664\n",
            "Accuracy of Neural Network: 0.9278215223097113\n"
          ]
        }
      ]
    },
    {
      "cell_type": "code",
      "source": [
        "import matplotlib.pyplot as plt\n",
        "\n",
        "# Data akurasi\n",
        "models = ['SVM', 'Random Forest', 'Neural Network']\n",
        "accuracies = [svm_accuracy, rf_accuracy, nn_accuracy]\n",
        "\n",
        "# Membuat diagram batang\n",
        "plt.figure(figsize=(10, 6))\n",
        "plt.bar(models, accuracies, color=['blue', 'orange', 'green', 'purple'])\n",
        "plt.ylim(0, 1)  # Menetapkan batas y-axis antara 0 dan 1\n",
        "plt.title('Akurasi Model Klasifikasi')\n",
        "plt.xlabel('Model')\n",
        "plt.ylabel('Akurasi')\n",
        "plt.show()\n"
      ],
      "metadata": {
        "colab": {
          "base_uri": "https://localhost:8080/",
          "height": 564
        },
        "id": "lQxg03i9DCq3",
        "outputId": "742ac9a2-df83-4bdf-decc-a16a0ce7e190"
      },
      "execution_count": 32,
      "outputs": [
        {
          "output_type": "display_data",
          "data": {
            "text/plain": [
              "<Figure size 1000x600 with 1 Axes>"
            ],
            "image/png": "[encoded data removed]"
          },
          "metadata": {}
        }
      ]
    },
    {
      "cell_type": "markdown",
      "source": [
        "Save Model"
      ],
      "metadata": {
        "id": "9pYW4hmDDN3D"
      }
    },
    {
      "cell_type": "code",
      "source": [
        "import joblib\n",
        "joblib.dump(svm_model, '/content/drive/MyDrive/Proyek Sain Data/Model/svm_model.pkl')"
      ],
      "metadata": {
        "id": "7lUOUI54nu4F",
        "colab": {
          "base_uri": "https://localhost:8080/"
        },
        "outputId": "dab59f2d-9387-4fc4-e279-8e0e4c544f58"
      },
      "execution_count": 33,
      "outputs": [
        {
          "output_type": "execute_result",
          "data": {
            "text/plain": [
              "['/content/drive/MyDrive/Proyek Sain Data/Model/svm_model.pkl']"
            ]
          },
          "metadata": {},
          "execution_count": 33
        }
      ]
    }
  ]
}